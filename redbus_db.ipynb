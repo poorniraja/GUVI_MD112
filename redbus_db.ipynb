{
 "cells": [
  {
   "cell_type": "code",
   "execution_count": null,
   "id": "f882c7b1",
   "metadata": {},
   "outputs": [],
   "source": [
    "!pip install mysql-connector-python"
   ]
  },
  {
   "cell_type": "code",
   "execution_count": null,
   "id": "d61c46e0",
   "metadata": {},
   "outputs": [],
   "source": [
    "import mysql.connector\n",
    "conn = mysql.connector.connect(\n",
    "host='localhost',\n",
    "user='root',\n",
    "password='12345678')\n",
    "conn\n",
    "cursor = conn.cursor()\n",
    "cursor\n"
   ]
  },
  {
   "cell_type": "code",
   "execution_count": null,
   "id": "568526c7",
   "metadata": {},
   "outputs": [],
   "source": [
    "# Create connection to MySQL database\n",
    "conn = mysql.connector.connect(\n",
    "    host='localhost',\n",
    "    user='root',\n",
    "    password='12345678'\n",
    ")\n",
    "cursor = conn.cursor()\n",
    "\n",
    "# Create database if it doesn't exist\n",
    "cursor.execute(\"CREATE DATABASE IF NOT EXISTS redbus_db\")\n",
    "cursor.execute(\"USE redbus_db\")\n",
    "\n",
    "# Create table if it doesn't exist\n",
    "cursor.execute('''\n",
    "CREATE TABLE IF NOT EXISTS bus_routes (\n",
    "    id INT AUTO_INCREMENT PRIMARY KEY,\n",
    "    route_name TEXT,\n",
    "    route_link TEXT,\n",
    "    busname TEXT,\n",
    "    bustype TEXT,\n",
    "    departing_time DATETIME,\n",
    "    duration TEXT,\n",
    "    reaching_time DATETIME,\n",
    "    star_rating FLOAT,\n",
    "    price DECIMAL(10, 2),\n",
    "    seats_available INT\n",
    ")\n",
    "''')\n",
    "\n",
    "conn.commit()\n",
    "#conn.close()"
   ]
  },
  {
   "cell_type": "code",
   "execution_count": null,
   "id": "80e43d0b",
   "metadata": {},
   "outputs": [],
   "source": [
    "conn = mysql.connector.connect(\n",
    "    host='localhost',\n",
    "    user='root',\n",
    "    password='12345678'\n",
    ")\n",
    "cursor = conn.cursor()\n",
    "\n",
    "cursor.execute(\"USE redbus_db\")\n",
    "query = \"select id from bus_routes\"\n",
    "cursor.execute(query)\n",
    "for col in cursor:\n",
    "    print(col)"
   ]
  },
  {
   "cell_type": "code",
   "execution_count": null,
   "id": "e0b78206",
   "metadata": {},
   "outputs": [],
   "source": [
    "cursor.execute(\"select * from bus_routes\")\n",
    "\n",
    "table_description = cursor.fetchall()\n",
    "for desc in table_description:\n",
    "    print(desc)"
   ]
  },
  {
   "cell_type": "code",
   "execution_count": null,
   "id": "2fbc2267",
   "metadata": {},
   "outputs": [],
   "source": []
  }
 ],
 "metadata": {
  "kernelspec": {
   "display_name": "Python 3 (ipykernel)",
   "language": "python",
   "name": "python3"
  },
  "language_info": {
   "codemirror_mode": {
    "name": "ipython",
    "version": 3
   },
   "file_extension": ".py",
   "mimetype": "text/x-python",
   "name": "python",
   "nbconvert_exporter": "python",
   "pygments_lexer": "ipython3",
   "version": "3.11.7"
  }
 },
 "nbformat": 4,
 "nbformat_minor": 5
}
