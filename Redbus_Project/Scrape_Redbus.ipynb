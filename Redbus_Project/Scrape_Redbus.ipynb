{
 "cells": [
  {
   "cell_type": "code",
   "execution_count": 1,
   "id": "90749f7d",
   "metadata": {},
   "outputs": [
    {
     "name": "stdout",
     "output_type": "stream",
     "text": [
      "Requirement already satisfied: selenium in c:\\users\\dell\\anaconda3\\lib\\site-packages (4.22.0)\n",
      "Requirement already satisfied: urllib3<3,>=1.26 in c:\\users\\dell\\anaconda3\\lib\\site-packages (from urllib3[socks]<3,>=1.26->selenium) (2.0.7)\n",
      "Requirement already satisfied: trio~=0.17 in c:\\users\\dell\\anaconda3\\lib\\site-packages (from selenium) (0.26.0)\n",
      "Requirement already satisfied: trio-websocket~=0.9 in c:\\users\\dell\\anaconda3\\lib\\site-packages (from selenium) (0.11.1)\n",
      "Requirement already satisfied: certifi>=2021.10.8 in c:\\users\\dell\\anaconda3\\lib\\site-packages (from selenium) (2024.2.2)\n",
      "Requirement already satisfied: typing_extensions>=4.9.0 in c:\\users\\dell\\anaconda3\\lib\\site-packages (from selenium) (4.9.0)\n",
      "Requirement already satisfied: websocket-client>=1.8.0 in c:\\users\\dell\\anaconda3\\lib\\site-packages (from selenium) (1.8.0)\n",
      "Requirement already satisfied: attrs>=23.2.0 in c:\\users\\dell\\anaconda3\\lib\\site-packages (from trio~=0.17->selenium) (23.2.0)\n",
      "Requirement already satisfied: sortedcontainers in c:\\users\\dell\\anaconda3\\lib\\site-packages (from trio~=0.17->selenium) (2.4.0)\n",
      "Requirement already satisfied: idna in c:\\users\\dell\\anaconda3\\lib\\site-packages (from trio~=0.17->selenium) (3.4)\n",
      "Requirement already satisfied: outcome in c:\\users\\dell\\anaconda3\\lib\\site-packages (from trio~=0.17->selenium) (1.3.0.post0)\n",
      "Requirement already satisfied: sniffio>=1.3.0 in c:\\users\\dell\\anaconda3\\lib\\site-packages (from trio~=0.17->selenium) (1.3.0)\n",
      "Requirement already satisfied: cffi>=1.14 in c:\\users\\dell\\anaconda3\\lib\\site-packages (from trio~=0.17->selenium) (1.16.0)\n",
      "Requirement already satisfied: wsproto>=0.14 in c:\\users\\dell\\anaconda3\\lib\\site-packages (from trio-websocket~=0.9->selenium) (1.2.0)\n",
      "Requirement already satisfied: pysocks!=1.5.7,<2.0,>=1.5.6 in c:\\users\\dell\\anaconda3\\lib\\site-packages (from urllib3[socks]<3,>=1.26->selenium) (1.7.1)\n",
      "Requirement already satisfied: pycparser in c:\\users\\dell\\anaconda3\\lib\\site-packages (from cffi>=1.14->trio~=0.17->selenium) (2.21)\n",
      "Requirement already satisfied: h11<1,>=0.9.0 in c:\\users\\dell\\anaconda3\\lib\\site-packages (from wsproto>=0.14->trio-websocket~=0.9->selenium) (0.14.0)\n"
     ]
    }
   ],
   "source": [
    "#install selenium \n",
    "\n",
    "!pip install selenium\n"
   ]
  },
  {
   "cell_type": "code",
   "execution_count": 2,
   "id": "d1fbbab2",
   "metadata": {},
   "outputs": [
    {
     "name": "stdout",
     "output_type": "stream",
     "text": [
      "Requirement already satisfied: mysql-connector-python in c:\\users\\dell\\anaconda3\\lib\\site-packages (8.4.0)\n"
     ]
    }
   ],
   "source": [
    "!pip install mysql-connector-python"
   ]
  },
  {
   "cell_type": "code",
   "execution_count": 1,
   "id": "049819d2",
   "metadata": {
    "scrolled": true
   },
   "outputs": [
    {
     "ename": "NoSuchWindowException",
     "evalue": "Message: no such window: target window already closed\nfrom unknown error: web view not found\n  (Session info: chrome=126.0.6478.127)\nStacktrace:\n\tGetHandleVerifier [0x00007FF63976EEB2+31554]\n\t(No symbol) [0x00007FF6396E7EE9]\n\t(No symbol) [0x00007FF6395A872A]\n\t(No symbol) [0x00007FF63957D995]\n\t(No symbol) [0x00007FF6396244D7]\n\t(No symbol) [0x00007FF63963C051]\n\t(No symbol) [0x00007FF63961CDD3]\n\t(No symbol) [0x00007FF6395EA33B]\n\t(No symbol) [0x00007FF6395EAED1]\n\tGetHandleVerifier [0x00007FF639A78B2D+3217341]\n\tGetHandleVerifier [0x00007FF639AC5AF3+3532675]\n\tGetHandleVerifier [0x00007FF639ABB0F0+3489152]\n\tGetHandleVerifier [0x00007FF63981E786+750614]\n\t(No symbol) [0x00007FF6396F376F]\n\t(No symbol) [0x00007FF6396EEB24]\n\t(No symbol) [0x00007FF6396EECB2]\n\t(No symbol) [0x00007FF6396DE17F]\n\tBaseThreadInitThunk [0x00007FFD528A257D+29]\n\tRtlUserThreadStart [0x00007FFD5338AF28+40]\n",
     "output_type": "error",
     "traceback": [
      "\u001b[1;31m---------------------------------------------------------------------------\u001b[0m",
      "\u001b[1;31mNoSuchWindowException\u001b[0m                     Traceback (most recent call last)",
      "Cell \u001b[1;32mIn[1], line 92\u001b[0m\n\u001b[0;32m     89\u001b[0m     conn\u001b[38;5;241m.\u001b[39mclose()\n\u001b[0;32m     91\u001b[0m \u001b[38;5;66;03m#\u001b[39;00m\n\u001b[1;32m---> 92\u001b[0m scrape_redbus(\u001b[38;5;124m'\u001b[39m\u001b[38;5;124mBangalore\u001b[39m\u001b[38;5;124m'\u001b[39m, \u001b[38;5;124m'\u001b[39m\u001b[38;5;124mChennai\u001b[39m\u001b[38;5;124m'\u001b[39m,\u001b[38;5;124m'\u001b[39m\u001b[38;5;124m27-Jul-2024\u001b[39m\u001b[38;5;124m'\u001b[39m)\n\u001b[0;32m     93\u001b[0m driver\u001b[38;5;241m.\u001b[39mquit()\n",
      "Cell \u001b[1;32mIn[1], line 52\u001b[0m, in \u001b[0;36mscrape_redbus\u001b[1;34m(source, destination, travel_date)\u001b[0m\n\u001b[0;32m     49\u001b[0m time\u001b[38;5;241m.\u001b[39msleep(\u001b[38;5;241m10\u001b[39m)\n\u001b[0;32m     51\u001b[0m \u001b[38;5;66;03m# Extract data\u001b[39;00m\n\u001b[1;32m---> 52\u001b[0m buses \u001b[38;5;241m=\u001b[39m driver\u001b[38;5;241m.\u001b[39mfind_elements(By\u001b[38;5;241m.\u001b[39mCLASS_NAME, \u001b[38;5;124m'\u001b[39m\u001b[38;5;124mbus-item\u001b[39m\u001b[38;5;124m'\u001b[39m)\n\u001b[0;32m     53\u001b[0m data \u001b[38;5;241m=\u001b[39m []\n\u001b[0;32m     54\u001b[0m \u001b[38;5;28;01mfor\u001b[39;00m bus \u001b[38;5;129;01min\u001b[39;00m buses:        \n",
      "File \u001b[1;32m~\\anaconda3\\Lib\\site-packages\\selenium\\webdriver\\remote\\webdriver.py:778\u001b[0m, in \u001b[0;36mWebDriver.find_elements\u001b[1;34m(self, by, value)\u001b[0m\n\u001b[0;32m    774\u001b[0m     value \u001b[38;5;241m=\u001b[39m \u001b[38;5;124mf\u001b[39m\u001b[38;5;124m'\u001b[39m\u001b[38;5;124m[name=\u001b[39m\u001b[38;5;124m\"\u001b[39m\u001b[38;5;132;01m{\u001b[39;00mvalue\u001b[38;5;132;01m}\u001b[39;00m\u001b[38;5;124m\"\u001b[39m\u001b[38;5;124m]\u001b[39m\u001b[38;5;124m'\u001b[39m\n\u001b[0;32m    776\u001b[0m \u001b[38;5;66;03m# Return empty list if driver returns null\u001b[39;00m\n\u001b[0;32m    777\u001b[0m \u001b[38;5;66;03m# See https://github.com/SeleniumHQ/selenium/issues/4555\u001b[39;00m\n\u001b[1;32m--> 778\u001b[0m \u001b[38;5;28;01mreturn\u001b[39;00m \u001b[38;5;28mself\u001b[39m\u001b[38;5;241m.\u001b[39mexecute(Command\u001b[38;5;241m.\u001b[39mFIND_ELEMENTS, {\u001b[38;5;124m\"\u001b[39m\u001b[38;5;124musing\u001b[39m\u001b[38;5;124m\"\u001b[39m: by, \u001b[38;5;124m\"\u001b[39m\u001b[38;5;124mvalue\u001b[39m\u001b[38;5;124m\"\u001b[39m: value})[\u001b[38;5;124m\"\u001b[39m\u001b[38;5;124mvalue\u001b[39m\u001b[38;5;124m\"\u001b[39m] \u001b[38;5;129;01mor\u001b[39;00m []\n",
      "File \u001b[1;32m~\\anaconda3\\Lib\\site-packages\\selenium\\webdriver\\remote\\webdriver.py:354\u001b[0m, in \u001b[0;36mWebDriver.execute\u001b[1;34m(self, driver_command, params)\u001b[0m\n\u001b[0;32m    352\u001b[0m response \u001b[38;5;241m=\u001b[39m \u001b[38;5;28mself\u001b[39m\u001b[38;5;241m.\u001b[39mcommand_executor\u001b[38;5;241m.\u001b[39mexecute(driver_command, params)\n\u001b[0;32m    353\u001b[0m \u001b[38;5;28;01mif\u001b[39;00m response:\n\u001b[1;32m--> 354\u001b[0m     \u001b[38;5;28mself\u001b[39m\u001b[38;5;241m.\u001b[39merror_handler\u001b[38;5;241m.\u001b[39mcheck_response(response)\n\u001b[0;32m    355\u001b[0m     response[\u001b[38;5;124m\"\u001b[39m\u001b[38;5;124mvalue\u001b[39m\u001b[38;5;124m\"\u001b[39m] \u001b[38;5;241m=\u001b[39m \u001b[38;5;28mself\u001b[39m\u001b[38;5;241m.\u001b[39m_unwrap_value(response\u001b[38;5;241m.\u001b[39mget(\u001b[38;5;124m\"\u001b[39m\u001b[38;5;124mvalue\u001b[39m\u001b[38;5;124m\"\u001b[39m, \u001b[38;5;28;01mNone\u001b[39;00m))\n\u001b[0;32m    356\u001b[0m     \u001b[38;5;28;01mreturn\u001b[39;00m response\n",
      "File \u001b[1;32m~\\anaconda3\\Lib\\site-packages\\selenium\\webdriver\\remote\\errorhandler.py:229\u001b[0m, in \u001b[0;36mErrorHandler.check_response\u001b[1;34m(self, response)\u001b[0m\n\u001b[0;32m    227\u001b[0m         alert_text \u001b[38;5;241m=\u001b[39m value[\u001b[38;5;124m\"\u001b[39m\u001b[38;5;124malert\u001b[39m\u001b[38;5;124m\"\u001b[39m]\u001b[38;5;241m.\u001b[39mget(\u001b[38;5;124m\"\u001b[39m\u001b[38;5;124mtext\u001b[39m\u001b[38;5;124m\"\u001b[39m)\n\u001b[0;32m    228\u001b[0m     \u001b[38;5;28;01mraise\u001b[39;00m exception_class(message, screen, stacktrace, alert_text)  \u001b[38;5;66;03m# type: ignore[call-arg]  # mypy is not smart enough here\u001b[39;00m\n\u001b[1;32m--> 229\u001b[0m \u001b[38;5;28;01mraise\u001b[39;00m exception_class(message, screen, stacktrace)\n",
      "\u001b[1;31mNoSuchWindowException\u001b[0m: Message: no such window: target window already closed\nfrom unknown error: web view not found\n  (Session info: chrome=126.0.6478.127)\nStacktrace:\n\tGetHandleVerifier [0x00007FF63976EEB2+31554]\n\t(No symbol) [0x00007FF6396E7EE9]\n\t(No symbol) [0x00007FF6395A872A]\n\t(No symbol) [0x00007FF63957D995]\n\t(No symbol) [0x00007FF6396244D7]\n\t(No symbol) [0x00007FF63963C051]\n\t(No symbol) [0x00007FF63961CDD3]\n\t(No symbol) [0x00007FF6395EA33B]\n\t(No symbol) [0x00007FF6395EAED1]\n\tGetHandleVerifier [0x00007FF639A78B2D+3217341]\n\tGetHandleVerifier [0x00007FF639AC5AF3+3532675]\n\tGetHandleVerifier [0x00007FF639ABB0F0+3489152]\n\tGetHandleVerifier [0x00007FF63981E786+750614]\n\t(No symbol) [0x00007FF6396F376F]\n\t(No symbol) [0x00007FF6396EEB24]\n\t(No symbol) [0x00007FF6396EECB2]\n\t(No symbol) [0x00007FF6396DE17F]\n\tBaseThreadInitThunk [0x00007FFD528A257D+29]\n\tRtlUserThreadStart [0x00007FFD5338AF28+40]\n"
     ]
    }
   ],
   "source": [
    "import mysql.connector\n",
    "import time\n",
    "from selenium import webdriver\n",
    "from selenium.webdriver.common.by import By\n",
    "from selenium.webdriver.common.keys import Keys\n",
    "from selenium.webdriver.support.ui import WebDriverWait\n",
    "from selenium.webdriver.support import expected_conditions as EC\n",
    "from datetime import datetime\n",
    "import streamlit as st\n",
    "import pandas as pd\n",
    "\n",
    "\n",
    "\n",
    "driver = webdriver.Chrome()  # Optional argument, if not specified will search path.\n",
    "#driver = webdriver.Firefox()  \n",
    "\n",
    "def scrape_redbus(source, destination,travel_date):\n",
    "    driver.get('https://www.redbus.in/')\n",
    "    time.sleep(5)    \n",
    "    \n",
    "    driver.find_element(By.ID, 'src').send_keys(source)\n",
    "    driver.find_element(By.ID, 'dest').send_keys(destination)   \n",
    "    \n",
    "    \n",
    "    \n",
    "    travel_date_obj = datetime.strptime(travel_date, '%d-%b-%Y')\n",
    "    day = travel_date_obj.day\n",
    "    month_year_str = travel_date_obj.strftime('%d %b %Y')\n",
    "\n",
    "    \n",
    "    date_picker = WebDriverWait(driver, 10).until(\n",
    "       EC.element_to_be_clickable((By.CSS_SELECTOR, '.labelCalendarContainer'))\n",
    "    )\n",
    "    date_picker.click()\n",
    "    \n",
    "    day_str = travel_date_obj.strftime('%d %b')\n",
    "    year_str = travel_date_obj.strftime('%Y')\n",
    "\n",
    "    \n",
    "    #driver.execute_script(f\"document.getElementById('onwardCal').value = '{travel_date}';\")\n",
    "    driver.find_element(By.ID, 'onwardCal').send_keys(travel_date)\n",
    "    \n",
    "    \n",
    "    time.sleep(5)\n",
    "    \n",
    "    driver.find_element(By.ID, 'search_button').click()      \n",
    "    \n",
    "    \n",
    "    time.sleep(10)\n",
    "    \n",
    "    # Extract data\n",
    "    buses = driver.find_elements(By.CLASS_NAME, 'bus-item')\n",
    "    data = []\n",
    "    for bus in buses:        \n",
    "        route_name = f\"{source} - {destination}\"\n",
    "        route_link = driver.current_url\n",
    "        bus_name = bus.find_element(By.CLASS_NAME, 'travels').text\n",
    "        bus_type = bus.find_element(By.CLASS_NAME, 'bus-type').text\n",
    "        departure_time = bus.find_element(By.CLASS_NAME, 'dept-time').text\n",
    "        duration = bus.find_element(By.CLASS_NAME, 'duration').text\n",
    "        arrival_time = bus.find_element(By.CLASS_NAME, 'reach-time').text\n",
    "        star_rating = bus.find_element(By.CLASS_NAME, 'rating').text\n",
    "        price = bus.find_element(By.CLASS_NAME, 'fare').text.replace('₹', '').replace(',', '')\n",
    "        seats_available = bus.find_element(By.CLASS_NAME, 'seat-left').text\n",
    "\n",
    "        # Convert times to datetime\n",
    "        try:\n",
    "            departure_time = datetime.strptime(departure_time, '%I:%M %p')\n",
    "            arrival_time = datetime.strptime(arrival_time, '%I:%M %p')\n",
    "        except ValueError:\n",
    "            departure_time = None\n",
    "            arrival_time = None\n",
    "\n",
    "        data.append((route_name, route_link, bus_name, bus_type, departure_time, duration, arrival_time, float(star_rating), float(price), int(seats_available)))\n",
    "        \n",
    "        # Inserting data into the database\n",
    "    conn = mysql.connector.connect(\n",
    "    host='localhost',\n",
    "    user='root',\n",
    "    password='12345678',\n",
    "    database='redbus_db'\n",
    "    )\n",
    "    cursor = conn.cursor()\n",
    "    cursor.executemany('''\n",
    "    INSERT INTO bus_routes (route_name, route_link, busname, bustype, departing_time, duration, reaching_time, star_rating, price, seats_available)\n",
    "    VALUES (%s, %s, %s, %s, %s, %s, %s, %s, %s, %s)\n",
    "    ''', data)\n",
    "    conn.commit()\n",
    "    conn.close()\n",
    "    \n",
    "#\n",
    "scrape_redbus('Bangalore', 'Chennai','27-Jul-2024')\n",
    "driver.quit()"
   ]
  },
  {
   "cell_type": "code",
   "execution_count": null,
   "id": "b33ba574",
   "metadata": {},
   "outputs": [],
   "source": []
  },
  {
   "cell_type": "code",
   "execution_count": null,
   "id": "8d5d5d18",
   "metadata": {},
   "outputs": [],
   "source": []
  }
 ],
 "metadata": {
  "kernelspec": {
   "display_name": "Python 3 (ipykernel)",
   "language": "python",
   "name": "python3"
  },
  "language_info": {
   "codemirror_mode": {
    "name": "ipython",
    "version": 3
   },
   "file_extension": ".py",
   "mimetype": "text/x-python",
   "name": "python",
   "nbconvert_exporter": "python",
   "pygments_lexer": "ipython3",
   "version": "3.11.7"
  }
 },
 "nbformat": 4,
 "nbformat_minor": 5
}
